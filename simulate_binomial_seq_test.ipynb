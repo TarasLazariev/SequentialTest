{
 "cells": [
  {
   "cell_type": "code",
   "execution_count": 4,
   "metadata": {},
   "outputs": [],
   "source": [
    "from sprt.sequential_test_monte_carlo import sequential_test_simulation\n",
    "from sprt.ab_stat_tests import calc_prop_test_sample_size"
   ]
  },
  {
   "cell_type": "code",
   "execution_count": 14,
   "metadata": {},
   "outputs": [],
   "source": [
    "COVERSION_RATE = 0.05\n",
    "MDE = 0.1\n",
    "MDE_REAL = 0.1\n",
    "ALPHA = 0.1\n",
    "POWER = 0.9\n",
    "N_SIMULATIONS = 10_000\n",
    "SIMULATION_STEP = 1000 # how often do we check the result of the test"
   ]
  },
  {
   "cell_type": "code",
   "execution_count": 15,
   "metadata": {},
   "outputs": [
    {
     "name": "stdout",
     "output_type": "stream",
     "text": [
      "z-test sample size per variation: 24964\n"
     ]
    }
   ],
   "source": [
    "print('z-test sample size per variation:', \n",
    "      calc_prop_test_sample_size(cr=COVERSION_RATE, mde=MDE, power=POWER, alpha=ALPHA, alternative='greater'))"
   ]
  },
  {
   "cell_type": "code",
   "execution_count": 16,
   "metadata": {},
   "outputs": [
    {
     "data": {
      "application/vnd.jupyter.widget-view+json": {
       "model_id": "8e0cc55ad4ca4b6a82d09f57743cf8c8",
       "version_major": 2,
       "version_minor": 0
      },
      "text/plain": [
       "HBox(children=(FloatProgress(value=0.0, max=10000.0), HTML(value='')))"
      ]
     },
     "metadata": {},
     "output_type": "display_data"
    },
    {
     "name": "stdout",
     "output_type": "stream",
     "text": [
      "\n",
      "Type I Error 0.07\n",
      "Type II Error 0.14\n",
      "-----------------------------------\n",
      "Stopped earlier if H0 True 0.18\n",
      "Stopped earlier if H1 True 0.47\n",
      "-----------------------------------\n",
      "Saved time if H0 True 0.06\n",
      "Saved time if H1 True 0.15\n"
     ]
    }
   ],
   "source": [
    "sequential_test_simulation(COVERSION_RATE, \n",
    "                           MDE, \n",
    "                           MDE_REAL, \n",
    "                           ALPHA, \n",
    "                           POWER, \n",
    "                           N_SIMULATIONS, \n",
    "                           SIMULATION_STEP)"
   ]
  },
  {
   "cell_type": "code",
   "execution_count": null,
   "metadata": {},
   "outputs": [],
   "source": []
  },
  {
   "cell_type": "code",
   "execution_count": null,
   "metadata": {},
   "outputs": [],
   "source": []
  },
  {
   "cell_type": "markdown",
   "metadata": {},
   "source": [
    "| Parameters  | Stopped earlier | Saved time | Sample size per var |\n",
    "| --- | --- | --- | --- |\n",
    "| CR 15% |\n",
    "| MDE=5%, MDE_REAL=5% | 85% / 97% | 47% / 59% | 30k |\n",
    "| MDE=10%, MDE_REAL=10% | 23% / 68% | 8% / 25% | 7k |\n",
    "| MDE=15%, MDE_REAL=15% | 3% / 35% | 1% / 7% | 3k |\n",
    "| MDE=5%, MDE_REAL=10% | 85% / 99% | 47% / 75% | \n",
    "| MDE=5%, MDE_REAL=-5% | 85% / 99% | 48% / 80% | \n",
    "| CR 35% |\n",
    "| MDE=5%, MDE_REAL=5% | 86% / 81% | 50% / 46% | 10k |\n",
    "| MDE=10%, MDE_REAL=10% | 21% / 66% | 7% / 24% | 3k |\n",
    "| MDE=15%, MDE_REAL=15% | 2% / 30% | 1% / 7% | 1k |\n",
    "| MDE=5%, MDE_REAL=10% | 85% / 79% | 50% / 49% | "
   ]
  },
  {
   "cell_type": "code",
   "execution_count": null,
   "metadata": {},
   "outputs": [],
   "source": []
  }
 ],
 "metadata": {
  "kernelspec": {
   "display_name": "Python 3",
   "language": "python",
   "name": "python3"
  },
  "language_info": {
   "codemirror_mode": {
    "name": "ipython",
    "version": 3
   },
   "file_extension": ".py",
   "mimetype": "text/x-python",
   "name": "python",
   "nbconvert_exporter": "python",
   "pygments_lexer": "ipython3",
   "version": "3.8.3"
  }
 },
 "nbformat": 4,
 "nbformat_minor": 5
}
