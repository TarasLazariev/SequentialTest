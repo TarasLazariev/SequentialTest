{
 "cells": [
  {
   "cell_type": "code",
   "execution_count": 4,
   "metadata": {},
   "outputs": [],
   "source": [
    "import numpy as np\n",
    "from tqdm.notebook import tqdm\n",
    "\n",
    "from ab_stat_tests import calc_prop_test_sample_size, calc_prop_test_pvalue\n",
    "from sequential_test import Sequential_test"
   ]
  },
  {
   "cell_type": "code",
   "execution_count": 5,
   "metadata": {},
   "outputs": [],
   "source": [
    "from bayesian_testing.experiments import BinaryDataTest"
   ]
  },
  {
   "cell_type": "code",
   "execution_count": 8,
   "metadata": {},
   "outputs": [
    {
     "data": {
      "text/plain": [
       "0.99505"
      ]
     },
     "execution_count": 8,
     "metadata": {},
     "output_type": "execute_result"
    }
   ],
   "source": [
    "COVERSION_RATE = 0.15\n",
    "MDE = 0.05\n",
    "MDE_REAL = 0.05\n",
    "POWER = 0.9\n",
    "ALPHA = 0.1\n",
    "cr1 = COVERSION_RATE\n",
    "cr2 = cr1 * (1 + MDE)\n",
    "cr2_real = cr1 * (1 + MDE_REAL)\n",
    "\n",
    "sample_size = int(calc_prop_test_sample_size(cr=cr1, mde=MDE, power=POWER, alpha=ALPHA, alternative='greater'))\n",
    "data_a = np.random.choice([0,1], sample_size, p=[1 - cr1, cr1])\n",
    "data_b = np.random.choice([0,1], sample_size, p=[1 - cr2_real, cr2_real])\n",
    "\n",
    "\n",
    "test = BinaryDataTest()\n",
    "test.add_variant_data('A', data_a)\n",
    "test.add_variant_data('B', data_b)\n",
    "test.probabs_of_being_best()['B']"
   ]
  },
  {
   "cell_type": "code",
   "execution_count": null,
   "metadata": {},
   "outputs": [],
   "source": []
  },
  {
   "cell_type": "code",
   "execution_count": 19,
   "metadata": {},
   "outputs": [],
   "source": [
    "COVERSION_RATE = 0.35\n",
    "MDE = 0.1\n",
    "MDE_REAL = 0.1\n",
    "ALPHA = 0.1\n",
    "POWER = 0.9\n",
    "N_SIMULATIONS = 10000 # 10000 recommended\n",
    "SIMULATION_STEP = 1000 # how often do we check the result of the test"
   ]
  },
  {
   "cell_type": "code",
   "execution_count": 20,
   "metadata": {},
   "outputs": [
    {
     "data": {
      "application/vnd.jupyter.widget-view+json": {
       "model_id": "6d8ca5a7f57b4c3db199b97bdd1ea302",
       "version_major": 2,
       "version_minor": 0
      },
      "text/plain": [
       "HBox(children=(FloatProgress(value=0.0, max=10000.0), HTML(value='')))"
      ]
     },
     "metadata": {},
     "output_type": "display_data"
    },
    {
     "name": "stdout",
     "output_type": "stream",
     "text": [
      "\n"
     ]
    }
   ],
   "source": [
    "cr1 = COVERSION_RATE\n",
    "cr2 = cr1 * (1 + MDE)\n",
    "cr2_real = cr1 * (1 + MDE_REAL)\n",
    "data_a = np.random.choice([0,1], 100000, p=[1 - cr1, cr1])\n",
    "data_b = np.random.choice([0,1], 100000, p=[1 - cr2_real, cr2_real])\n",
    "sample_size = int(calc_prop_test_sample_size(cr=cr1, mde=MDE, power=POWER, alpha=ALPHA, alternative='greater'))\n",
    "\n",
    "seq_result_aa, seq_result_ab = [], []\n",
    "sample_size_ab, sample_size_aa = [], []\n",
    "times_classic_aa, times_classic_ab = 0, 0\n",
    "\n",
    "for it in tqdm(range(N_SIMULATIONS)):\n",
    "    a1 = np.random.choice(data_a, size=sample_size, replace=False)\n",
    "    a2 = np.random.choice(data_a, size=sample_size, replace=False)\n",
    "    b = np.random.choice(data_b, size=sample_size, replace=False)\n",
    "\n",
    "    for i in range(500, sample_size, SIMULATION_STEP):\n",
    "        a1_temp = a1[:i]\n",
    "        a2_temp = a2[:i]\n",
    "        test = BinaryDataTest()\n",
    "        test.add_variant_data('A', a1_temp)\n",
    "        test.add_variant_data('B', a2_temp)\n",
    "        test_aa = test.probabs_of_being_best()['B']\n",
    "        if test_aa > 1 - ALPHA:\n",
    "            seq_result_aa.append(1)\n",
    "            sample_size_aa.append(i)\n",
    "            break\n",
    "        elif test_aa < ALPHA:\n",
    "            seq_result_aa.append(0)\n",
    "            sample_size_aa.append(i)\n",
    "            break\n",
    "    if len(seq_result_aa) < it + 1:\n",
    "        times_classic_aa += 1\n",
    "        if calc_prop_test_pvalue(sum(a2), sample_size, sum(a1), sample_size) < ALPHA:\n",
    "            seq_result_aa.append(1)\n",
    "        else:\n",
    "            seq_result_aa.append(0)\n",
    "            sample_size_aa.append(sample_size)\n",
    "            \n",
    "    for i in range(500, sample_size, SIMULATION_STEP):\n",
    "        a1_temp = a1[:i]\n",
    "        b_temp = b[:i]\n",
    "        test = BinaryDataTest()\n",
    "        test.add_variant_data('A', a1_temp)\n",
    "        test.add_variant_data('B', b_temp)\n",
    "        test_ab = test.probabs_of_being_best()['B']\n",
    "        if test_ab > 1 - ALPHA:\n",
    "            seq_result_ab.append(1)\n",
    "            sample_size_ab.append(i)\n",
    "            break\n",
    "        elif test_ab < ALPHA:\n",
    "            seq_result_ab.append(0)\n",
    "            sample_size_ab.append(i)\n",
    "            break\n",
    "    if len(seq_result_ab) < it + 1:\n",
    "        times_classic_ab += 1\n",
    "        if calc_prop_test_pvalue(sum(b), sample_size, sum(a1), sample_size) < ALPHA:\n",
    "            seq_result_ab.append(1)\n",
    "            sample_size_ab.append(sample_size)\n",
    "        else:\n",
    "            seq_result_ab.append(0)"
   ]
  },
  {
   "cell_type": "code",
   "execution_count": 21,
   "metadata": {},
   "outputs": [
    {
     "name": "stdout",
     "output_type": "stream",
     "text": [
      "Type I Error 0.2012\n",
      "Type II Error 0.1285\n"
     ]
    }
   ],
   "source": [
    "print('Type I Error', np.sum(seq_result_aa) / N_SIMULATIONS)\n",
    "print('Type II Error', (len(seq_result_ab) - np.sum(seq_result_ab)) / N_SIMULATIONS)"
   ]
  },
  {
   "cell_type": "code",
   "execution_count": 22,
   "metadata": {},
   "outputs": [
    {
     "name": "stdout",
     "output_type": "stream",
     "text": [
      "Stopped earlier if H0 True 0.3226\n",
      "Stopped earlier if H1 True 0.7413000000000001\n"
     ]
    }
   ],
   "source": [
    "print('Stopped earlier if H0 True', 1 - times_classic_aa / N_SIMULATIONS)\n",
    "print('Stopped earlier if H1 True', 1 - times_classic_ab / N_SIMULATIONS)"
   ]
  },
  {
   "cell_type": "code",
   "execution_count": 23,
   "metadata": {},
   "outputs": [
    {
     "name": "stdout",
     "output_type": "stream",
     "text": [
      "Saved time if H0 True 0.21\n",
      "Saved time if H1 True 0.51\n"
     ]
    }
   ],
   "source": [
    "print('Saved time if H0 True', round((sample_size - np.mean(sample_size_aa)) / sample_size, 2))\n",
    "print('Saved time if H1 True', round((sample_size - np.mean(sample_size_ab)) / sample_size, 2))"
   ]
  },
  {
   "cell_type": "code",
   "execution_count": null,
   "metadata": {},
   "outputs": [],
   "source": []
  },
  {
   "cell_type": "markdown",
   "metadata": {},
   "source": [
    "| Parameters  | Stopped earlier | Saved time | Sample size per var |\n",
    "| --- | --- | --- | --- |\n",
    "| CR 5% |\n",
    "| MDE=5%, MDE_REAL=5% | 99% / 32% | 46% / 40% | 100k |\n",
    "| MDE=5%, MDE_REAL=10% | 20% / 85% | 7% / 31% | 25k |\n",
    "| MDE=5%, MDE_REAL=15% | 3% / 12% | 1% / 2% | 11k |\n",
    "| MDE=5%, MDE_REAL=10% | 99% / 99% | 50% / 82% | \n",
    "| CR 15% |\n",
    "| MDE=5%, MDE_REAL=5% | 85% / 97% | 47% / 59% | 30k |\n",
    "| MDE=10%, MDE_REAL=10% | 23% / 68% | 8% / 25% | 7k |\n",
    "| MDE=15%, MDE_REAL=15% | 3% / 35% | 1% / 7% | 3k |\n",
    "| MDE=5%, MDE_REAL=10% | 85% / 99% | 47% / 75% | \n",
    "| MDE=5%, MDE_REAL=-5% | 85% / 99% | 48% / 80% | \n",
    "| CR 35% |\n",
    "| MDE=5%, MDE_REAL=5% | 86% / 81% | 50% / 46% | 10k |\n",
    "| MDE=10%, MDE_REAL=10% | 21% / 66% | 7% / 24% | 3k |\n",
    "| MDE=15%, MDE_REAL=15% | 2% / 30% | 1% / 7% | 1k |\n",
    "| MDE=5%, MDE_REAL=10% | 85% / 79% | 50% / 49% | "
   ]
  },
  {
   "cell_type": "code",
   "execution_count": null,
   "metadata": {},
   "outputs": [],
   "source": []
  },
  {
   "cell_type": "code",
   "execution_count": 262,
   "metadata": {},
   "outputs": [
    {
     "ename": "TypeError",
     "evalue": "'JointGrid' object is not callable",
     "output_type": "error",
     "traceback": [
      "\u001b[0;31m---------------------------------------------------------------------------\u001b[0m",
      "\u001b[0;31mTypeError\u001b[0m                                 Traceback (most recent call last)",
      "\u001b[0;32m<ipython-input-262-1050613ead14>\u001b[0m in \u001b[0;36m<module>\u001b[0;34m\u001b[0m\n\u001b[0;32m----> 1\u001b[0;31m \u001b[0mcalc_prob_between\u001b[0m\u001b[0;34m(\u001b[0m\u001b[0mbeta_V\u001b[0m\u001b[0;34m,\u001b[0m \u001b[0mbeta_C\u001b[0m\u001b[0;34m)\u001b[0m\u001b[0;34m\u001b[0m\u001b[0;34m\u001b[0m\u001b[0m\n\u001b[0m",
      "\u001b[0;32m<ipython-input-244-e73bd676b4a1>\u001b[0m in \u001b[0;36mcalc_prob_between\u001b[0;34m(beta1, beta2)\u001b[0m\n\u001b[1;32m     25\u001b[0m \u001b[0;34m\u001b[0m\u001b[0m\n\u001b[1;32m     26\u001b[0m \u001b[0;32mdef\u001b[0m \u001b[0mcalc_prob_between\u001b[0m\u001b[0;34m(\u001b[0m\u001b[0mbeta1\u001b[0m\u001b[0;34m,\u001b[0m \u001b[0mbeta2\u001b[0m\u001b[0;34m)\u001b[0m\u001b[0;34m:\u001b[0m\u001b[0;34m\u001b[0m\u001b[0;34m\u001b[0m\u001b[0m\n\u001b[0;32m---> 27\u001b[0;31m     \u001b[0;32mreturn\u001b[0m \u001b[0mg\u001b[0m\u001b[0;34m(\u001b[0m\u001b[0mbeta1\u001b[0m\u001b[0;34m.\u001b[0m\u001b[0margs\u001b[0m\u001b[0;34m[\u001b[0m\u001b[0;36m0\u001b[0m\u001b[0;34m]\u001b[0m\u001b[0;34m,\u001b[0m \u001b[0mbeta1\u001b[0m\u001b[0;34m.\u001b[0m\u001b[0margs\u001b[0m\u001b[0;34m[\u001b[0m\u001b[0;36m1\u001b[0m\u001b[0;34m]\u001b[0m\u001b[0;34m,\u001b[0m \u001b[0mbeta2\u001b[0m\u001b[0;34m.\u001b[0m\u001b[0margs\u001b[0m\u001b[0;34m[\u001b[0m\u001b[0;36m0\u001b[0m\u001b[0;34m]\u001b[0m\u001b[0;34m,\u001b[0m \u001b[0mbeta2\u001b[0m\u001b[0;34m.\u001b[0m\u001b[0margs\u001b[0m\u001b[0;34m[\u001b[0m\u001b[0;36m1\u001b[0m\u001b[0;34m]\u001b[0m\u001b[0;34m)\u001b[0m\u001b[0;34m\u001b[0m\u001b[0;34m\u001b[0m\u001b[0m\n\u001b[0m",
      "\u001b[0;31mTypeError\u001b[0m: 'JointGrid' object is not callable"
     ]
    }
   ],
   "source": [
    "calc_prob_between(beta_V, beta_C)"
   ]
  },
  {
   "cell_type": "code",
   "execution_count": 261,
   "metadata": {},
   "outputs": [
    {
     "data": {
      "text/plain": [
       "178"
      ]
     },
     "execution_count": 261,
     "metadata": {},
     "output_type": "execute_result"
    }
   ],
   "source": [
    "beta_C.args[0]"
   ]
  },
  {
   "cell_type": "code",
   "execution_count": null,
   "metadata": {},
   "outputs": [],
   "source": []
  }
 ],
 "metadata": {
  "kernelspec": {
   "display_name": "Python 3",
   "language": "python",
   "name": "python3"
  },
  "language_info": {
   "codemirror_mode": {
    "name": "ipython",
    "version": 3
   },
   "file_extension": ".py",
   "mimetype": "text/x-python",
   "name": "python",
   "nbconvert_exporter": "python",
   "pygments_lexer": "ipython3",
   "version": "3.8.3"
  }
 },
 "nbformat": 4,
 "nbformat_minor": 5
}
